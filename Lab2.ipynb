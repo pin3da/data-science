{
 "cells": [
  {
   "cell_type": "markdown",
   "metadata": {},
   "source": [
    "## Laboratorio 2: Modelo lineal y minimos cuadrados.\n",
    "\n",
    "Manuel Felipe Pineda\n"
   ]
  },
  {
   "cell_type": "markdown",
   "metadata": {},
   "source": [
    "- Consulte para que sirven los comandos fmincon, fminsearch de MatLab: \n",
    "  \n",
    "  R:   \n",
    "    **fmincon**, es un optimizador de funciones multivariadas no lineales, sujetas a restricciones.\n",
    "    \n",
    "    **fminsearch**, tiene el mismo objetivo pero con la diferencia es que la funcion ya no tiene restricciones.\n",
    "  \n",
    "    Es importante resaltar que ninguno de los metodos necesita la derivada de las funciones para encontrar el minimo.\n",
    "    \n",
    "    Dado que ambas funciones son propias de matlab, se listan algunas alternativas open-source compatibles \n",
    "    con otros lenguajes y que cumplen las mismas funciones.\n",
    "    \n",
    "    [NLopt](http://ab-initio.mit.edu/wiki/index.php/NLopt) es una alternativa muy completa que se puede correr con \n",
    "    muchos lenguajes. Posee muchas funciones de optimizacion no lineal las cuales pueden resultar utiles en diferentes\n",
    "    escenarios.\n",
    "    \n",
    "    La segunda opcion es solo para python, [scipy](http://www.scipy.org/) es un paquete para python el cual incluye\n",
    "    una gran cantidad de metodos de optimizacion, entre ellos:\n",
    "    \n",
    "           - fmin_l_bfgs_b -- optimizacion L-BFGS-B con restricciones\n",
    "\n",
    "           - fmin_tnc      -- Metodo trucado de Newton.\n",
    "\n",
    "           - fmin_cobyla   -- Optimizacion con restricciones por aproximacion lineal\n",
    "           \n",
    "- Consulte la utilidad de la tecnica 'TSVD (descomposicion en valores singulares truncada) para lo solucion de problemas lineales.'\n",
    "\n",
    "  R: La TSVD es una aproximacion de la SVD pero con menor rango, computacionalmente es una ventaja importante dado que\n",
    "  muchas veces las matrices de la SVD contienen muchos ceros. Algunas aplicaciones practicas son la \n",
    "  compresion de imagenes y el analisis de la relacion entre conjuntos de documentos \n",
    "  [ver LSA](https://en.wikipedia.org/wiki/Latent_semantic_analysis)\n",
    "  \n",
    "  En python se puede usar la funcion svd de scipy modificando el parametro *full_matrices* en caso\n",
    "  de que se desee una aproximacion.\n",
    "  \n",
    "  Tambien puede usarse la funcion TruncatedSVD de [scikit](http://scikit-learn.org/stable/modules/generated/sklearn.decomposition.TruncatedSVD.html)\n",
    "  \n",
    "  \n",
    "- Consulte la utilidad del operador \\ de MatLab.\n",
    "\n",
    "  R: A \\ B calcula inv(A) * B, tambien realiza aproximaciones en caso de que A no sea cuadrada o sea *casi* singular.\n",
    "     En caso de que A sea rectangular realiza una solucion por minimos cuadrados al problema A * x = B\n",
    "     \n",
    "     En python puede ser calculada con pinv.\n",
    "     \n",
    "- Consulte la funciones pdist y pdist2 de MatLab.\n",
    "\n",
    "- Consulte los comandos eig y svd de MatLab.\n",
    "\n",
    "- Demuestre en que consiste la solucion dual del problema de minimos cuadrados.\n",
    "\n",
    "- Si utiliza Python, consulte las funciones equivalentes en este lenguaje a los solicitadas en las actividades para MatLab.\n",
    "\n",
    "- Revise el codigo de muestra 'demo_mincuadrados.m'."
   ]
  },
  {
   "cell_type": "code",
   "execution_count": 2,
   "metadata": {
    "collapsed": true
   },
   "outputs": [],
   "source": []
  },
  {
   "cell_type": "markdown",
   "metadata": {},
   "source": [
    "- Encuentre el minimo de f(x) para la restriccion $g(x) = x^3 − 8 = 0$ graficando la funcion de costo y la restriccion en la seccion 2."
   ]
  },
  {
   "cell_type": "code",
   "execution_count": null,
   "metadata": {
    "collapsed": true
   },
   "outputs": [],
   "source": []
  },
  {
   "cell_type": "markdown",
   "metadata": {},
   "source": [
    "- Cambie la varianza del ruido blanco gaussiano en la seccion 3 del c  ́ odigo y explique que pasa con los datos.  ́"
   ]
  },
  {
   "cell_type": "code",
   "execution_count": null,
   "metadata": {
    "collapsed": true
   },
   "outputs": [],
   "source": []
  },
  {
   "cell_type": "markdown",
   "metadata": {},
   "source": [
    "- Cambie el dominio de los datos para la funcion sinc de la seccion 4 del codigo y explique que pasa con la aproximacion lineal."
   ]
  },
  {
   "cell_type": "code",
   "execution_count": null,
   "metadata": {
    "collapsed": true
   },
   "outputs": [],
   "source": []
  },
  {
   "cell_type": "markdown",
   "metadata": {},
   "source": [
    "Utilice una funcion base polinomial y una sigmoidal para aproximar la funcion sinc variando los parametros de las funciones base y la varianza del ruido."
   ]
  },
  {
   "cell_type": "code",
   "execution_count": null,
   "metadata": {
    "collapsed": true
   },
   "outputs": [],
   "source": []
  },
  {
   "cell_type": "markdown",
   "metadata": {},
   "source": [
    "Realice una aproximacion de alguna variable de interes de una base de datos del repositorio Kaggle. Utilice un modelo lineal con y sin regularizacion, y al menos dos modelos lineales con representacion no lineal regularizados. Grafique las matrices de covarianza, su espectro de valores propios, y la variable aproximada para cada uno de los casos."
   ]
  },
  {
   "cell_type": "code",
   "execution_count": null,
   "metadata": {
    "collapsed": true
   },
   "outputs": [],
   "source": []
  }
 ],
 "metadata": {
  "anaconda-cloud": {},
  "kernelspec": {
   "display_name": "Python [Root]",
   "language": "python",
   "name": "Python [Root]"
  },
  "language_info": {
   "codemirror_mode": {
    "name": "ipython",
    "version": 3
   },
   "file_extension": ".py",
   "mimetype": "text/x-python",
   "name": "python",
   "nbconvert_exporter": "python",
   "pygments_lexer": "ipython3",
   "version": "3.5.2"
  }
 },
 "nbformat": 4,
 "nbformat_minor": 1
}
