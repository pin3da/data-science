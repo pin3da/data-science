{
 "cells": [
  {
   "cell_type": "code",
   "execution_count": 1,
   "metadata": {
    "collapsed": true
   },
   "outputs": [],
   "source": [
    "%matplotlib inline\n",
    "import numpy as np\n",
    "import matplotlib.pyplot as plt\n",
    "\n",
    "from sklearn.model_selection import train_test_split\n",
    "from sklearn.model_selection import cross_val_score\n",
    "from sklearn.model_selection import StratifiedKFold\n",
    "from sklearn.metrics.cluster import v_measure_score\n",
    "from sklearn.metrics import classification_report\n",
    "from sklearn.metrics import accuracy_score\n",
    "from sklearn.metrics import f1_score\n",
    "from time import time\n",
    "\n",
    "from sklearn.model_selection import GridSearchCV\n",
    "from sklearn.model_selection import StratifiedShuffleSplit\n",
    "\n",
    "import warnings\n",
    "warnings.filterwarnings('ignore')"
   ]
  },
  {
   "cell_type": "code",
   "execution_count": 2,
   "metadata": {
    "collapsed": false
   },
   "outputs": [],
   "source": [
    "from sklearn.utils import resample\n",
    "from sklearn import preprocessing\n",
    "\n",
    "X = np.loadtxt('../data.txt')\n",
    "Y = np.loadtxt('../label.txt').astype(int)\n",
    "\n",
    "X = np.nan_to_num(X)\n",
    "\n",
    "Xp, Yp = resample(X, Y, n_samples = 5000)\n",
    "\n",
    "\n",
    "Xp_scaled = preprocessing.scale(Xp)"
   ]
  },
  {
   "cell_type": "code",
   "execution_count": 3,
   "metadata": {
    "collapsed": false
   },
   "outputs": [],
   "source": [
    "def trial(X, Y, method, name, scoring='f1'):\n",
    "    print (name)\n",
    "    start_time = time()\n",
    "    method.fit(X, Y)\n",
    "    y_pred = method.predict(X)\n",
    "    print(classification_report(Y, y_pred))\n",
    "    print (\"\\tDone in %.2f s\" % (time() - start_time))                                \n",
    "    print (\"Cross validation...\")\n",
    "    start_time = time()\n",
    "    skf = StratifiedKFold(n_splits=10, shuffle=True)\n",
    "    scores = cross_val_score(method, X, Y, cv=skf, scoring=scoring, n_jobs=-1)\n",
    "    accu = cross_val_score(method, X, Y, cv=skf, n_jobs=-1)\n",
    "    print (\"\\tAccuracy: %0.2f (+/- %0.2f)\" % (accu.mean(), accu.std() * 2))\n",
    "    print (\"\\tF1 score: %0.2f (+/- %0.2f)\" % (scores.mean(), scores.std() * 2))\n",
    "    print (\"\\tDone in %.2f s\" % (time() - start_time))                                "
   ]
  },
  {
   "cell_type": "markdown",
   "metadata": {},
   "source": [
    "## Visualization\n",
    "\n",
    "### PCA and Kernel PCA"
   ]
  },
  {
   "cell_type": "code",
   "execution_count": 4,
   "metadata": {
    "collapsed": false
   },
   "outputs": [
    {
     "data": {
      "image/png": "[encoded data removed]",
      "text/plain": [
       "<matplotlib.figure.Figure at 0x7f40310f0630>"
      ]
     },
     "metadata": {},
     "output_type": "display_data"
    },
    {
     "data": {
      "image/png": "[encoded data removed]",
      "text/plain": [
       "<matplotlib.figure.Figure at 0x7f40310170b8>"
      ]
     },
     "metadata": {},
     "output_type": "display_data"
    }
   ],
   "source": [
    "from sklearn.decomposition import PCA, KernelPCA\n",
    "\n",
    "kpca = KernelPCA(n_components = 2, kernel=\"rbf\")\n",
    "X_kpca = kpca.fit_transform(Xp)\n",
    "pca = PCA(n_components=2)\n",
    "X_pca = pca.fit_transform(Xp)\n",
    "reds = Yp == 0\n",
    "blues = Yp == 1\n",
    "\n",
    "plt.plot(X_kpca[reds, 0], X_kpca[reds, 1], \"rx\")\n",
    "plt.plot(X_kpca[blues, 0], X_kpca[blues, 1], \"bo\")\n",
    "plt.title('Kernel PCA')\n",
    "plt.show()\n",
    "plt.plot(X_pca[reds, 0], X_pca[reds, 1], \"rx\")\n",
    "plt.plot(X_pca[blues, 0], X_pca[blues, 1], \"bo\")\n",
    "plt.title('PCA')\n",
    "plt.show()"
   ]
  },
  {
   "cell_type": "markdown",
   "metadata": {},
   "source": [
    "## random guess"
   ]
  },
  {
   "cell_type": "code",
   "execution_count": 5,
   "metadata": {
    "collapsed": false
   },
   "outputs": [
    {
     "name": "stdout",
     "output_type": "stream",
     "text": [
      "Accuracy: 0.50 (+/- 0.00)\n",
      "F1 score: 0.40 (+/- 0.00)\n"
     ]
    }
   ],
   "source": [
    "y_pred = np.random.randint(0, 2, Y.shape[0])\n",
    "scores = np.array([f1_score(Y, np.random.randint(0, 2, Y.shape[0])) for i in range(10)])\n",
    "accu = np.array([accuracy_score(Y, np.random.randint(0, 2, Y.shape[0])) for i in range(10)])\n",
    "print (\"Accuracy: %0.2f (+/- %0.2f)\" % (accu.mean(), accu.std() * 2))\n",
    "print (\"F1 score: %0.2f (+/- %0.2f)\" % (scores.mean(), scores.std() * 2))"
   ]
  },
  {
   "cell_type": "markdown",
   "metadata": {},
   "source": [
    "## Linear methods"
   ]
  },
  {
   "cell_type": "code",
   "execution_count": 6,
   "metadata": {
    "collapsed": true
   },
   "outputs": [],
   "source": [
    "from sklearn.linear_model import SGDClassifier, Perceptron\n",
    "from sklearn.linear_model import PassiveAggressiveClassifier\n",
    "from sklearn.linear_model import LogisticRegression"
   ]
  },
  {
   "cell_type": "code",
   "execution_count": 7,
   "metadata": {
    "collapsed": false
   },
   "outputs": [
    {
     "name": "stdout",
     "output_type": "stream",
     "text": [
      "Perceptron\n",
      "             precision    recall  f1-score   support\n",
      "\n",
      "          0       0.71      0.99      0.83    324701\n",
      "          1       0.93      0.17      0.28    161347\n",
      "\n",
      "avg / total       0.78      0.72      0.64    486048\n",
      "\n",
      "\tDone in 0.99 s\n",
      "Cross validation...\n",
      "\tAccuracy: 0.60 (+/- 0.35)\n",
      "\tF1 score: 0.37 (+/- 0.21)\n",
      "\tDone in 15.18 s\n"
     ]
    }
   ],
   "source": [
    "trial(X, Y, Perceptron(), 'Perceptron')"
   ]
  },
  {
   "cell_type": "code",
   "execution_count": 8,
   "metadata": {
    "collapsed": false
   },
   "outputs": [
    {
     "name": "stdout",
     "output_type": "stream",
     "text": [
      "Log Reg\n",
      "             precision    recall  f1-score   support\n",
      "\n",
      "          0       0.71      0.99      0.83    324701\n",
      "          1       0.93      0.17      0.28    161347\n",
      "\n",
      "avg / total       0.78      0.72      0.64    486048\n",
      "\n",
      "\tDone in 2.40 s\n",
      "Cross validation...\n",
      "\tAccuracy: 0.72 (+/- 0.00)\n",
      "\tF1 score: 0.28 (+/- 0.01)\n",
      "\tDone in 68.48 s\n"
     ]
    }
   ],
   "source": [
    "trial(X, Y, LogisticRegression(), 'Log Reg')"
   ]
  },
  {
   "cell_type": "code",
   "execution_count": 9,
   "metadata": {
    "collapsed": false
   },
   "outputs": [
    {
     "name": "stdout",
     "output_type": "stream",
     "text": [
      "SGD Clasifier\n",
      "             precision    recall  f1-score   support\n",
      "\n",
      "          0       0.58      0.00      0.00    324701\n",
      "          1       0.33      1.00      0.50    161347\n",
      "\n",
      "avg / total       0.50      0.33      0.17    486048\n",
      "\n",
      "\tDone in 1.48 s\n",
      "Cross validation...\n",
      "\tAccuracy: 0.68 (+/- 0.23)\n",
      "\tF1 score: 0.30 (+/- 0.25)\n",
      "\tDone in 15.49 s\n"
     ]
    }
   ],
   "source": [
    "trial(X, Y, SGDClassifier(), 'SGD Clasifier')"
   ]
  },
  {
   "cell_type": "code",
   "execution_count": 10,
   "metadata": {
    "collapsed": false
   },
   "outputs": [
    {
     "name": "stdout",
     "output_type": "stream",
     "text": [
      "SGD with log\n",
      "             precision    recall  f1-score   support\n",
      "\n",
      "          0       0.00      0.00      0.00    324701\n",
      "          1       0.33      1.00      0.50    161347\n",
      "\n",
      "avg / total       0.11      0.33      0.17    486048\n",
      "\n",
      "\tDone in 1.05 s\n",
      "Cross validation...\n",
      "\tAccuracy: 0.60 (+/- 0.35)\n",
      "\tF1 score: 0.39 (+/- 0.22)\n",
      "\tDone in 15.78 s\n"
     ]
    }
   ],
   "source": [
    "trial(X, Y, SGDClassifier(loss=\"log\", penalty=\"l2\"), 'SGD with log')"
   ]
  },
  {
   "cell_type": "code",
   "execution_count": 11,
   "metadata": {
    "collapsed": false,
    "scrolled": true
   },
   "outputs": [
    {
     "name": "stdout",
     "output_type": "stream",
     "text": [
      "Passive Aggresive Clasifier\n",
      "             precision    recall  f1-score   support\n",
      "\n",
      "          0       0.71      0.99      0.83    324701\n",
      "          1       0.93      0.17      0.28    161347\n",
      "\n",
      "avg / total       0.78      0.72      0.64    486048\n",
      "\n",
      "\tDone in 1.87 s\n",
      "Cross validation...\n",
      "\tAccuracy: 0.56 (+/- 0.38)\n",
      "\tF1 score: 0.37 (+/- 0.21)\n",
      "\tDone in 23.27 s\n"
     ]
    }
   ],
   "source": [
    "pac = PassiveAggressiveClassifier(random_state=9,\n",
    "                                  class_weight='balanced',\n",
    "                                  n_jobs=-1,\n",
    "                                  n_iter=9)\n",
    "trial(X, Y, pac, 'Passive Aggresive Clasifier')"
   ]
  },
  {
   "cell_type": "markdown",
   "metadata": {},
   "source": [
    "## Non - Linear models"
   ]
  },
  {
   "cell_type": "code",
   "execution_count": 12,
   "metadata": {
    "collapsed": false
   },
   "outputs": [],
   "source": [
    "from sklearn import svm\n",
    "import warnings\n",
    "warnings.filterwarnings('ignore')"
   ]
  },
  {
   "cell_type": "code",
   "execution_count": 13,
   "metadata": {
    "collapsed": false
   },
   "outputs": [
    {
     "name": "stdout",
     "output_type": "stream",
     "text": [
      "SVC\n",
      "             precision    recall  f1-score   support\n",
      "\n",
      "          0       1.00      1.00      1.00      3343\n",
      "          1       1.00      1.00      1.00      1657\n",
      "\n",
      "avg / total       1.00      1.00      1.00      5000\n",
      "\n",
      "\tDone in 3.95 s\n",
      "Cross validation...\n",
      "\tAccuracy: 0.67 (+/- 0.01)\n",
      "\tF1 score: 0.02 (+/- 0.02)\n",
      "\tDone in 28.05 s\n"
     ]
    }
   ],
   "source": [
    "# Subsample\n",
    "trial(Xp, Yp, svm.SVC(), 'SVC')"
   ]
  },
  {
   "cell_type": "code",
   "execution_count": 14,
   "metadata": {
    "collapsed": false
   },
   "outputs": [
    {
     "name": "stdout",
     "output_type": "stream",
     "text": [
      "Nu SVC\n",
      "             precision    recall  f1-score   support\n",
      "\n",
      "          0       1.00      1.00      1.00      3343\n",
      "          1       1.00      1.00      1.00      1657\n",
      "\n",
      "avg / total       1.00      1.00      1.00      5000\n",
      "\n",
      "\tDone in 3.78 s\n",
      "Cross validation...\n",
      "\tAccuracy: 0.67 (+/- 0.00)\n",
      "\tF1 score: 0.01 (+/- 0.02)\n",
      "\tDone in 29.39 s\n"
     ]
    }
   ],
   "source": [
    "# Subsample\n",
    "trial(Xp, Yp, svm.NuSVC(gamma=1e9), 'Nu SVC')"
   ]
  },
  {
   "cell_type": "markdown",
   "metadata": {},
   "source": [
    "## Non linear Transformations"
   ]
  },
  {
   "cell_type": "code",
   "execution_count": 15,
   "metadata": {
    "collapsed": true
   },
   "outputs": [],
   "source": [
    "from sklearn.ensemble import RandomTreesEmbedding, ExtraTreesClassifier\n",
    "\n",
    "# use RandomTreesEmbedding to transform data\n",
    "hasher = RandomTreesEmbedding(n_jobs=-1)\n",
    "X_randomTrees = hasher.fit_transform(X)"
   ]
  },
  {
   "cell_type": "code",
   "execution_count": 16,
   "metadata": {
    "collapsed": false
   },
   "outputs": [
    {
     "name": "stdout",
     "output_type": "stream",
     "text": [
      "Log Reg\n",
      "             precision    recall  f1-score   support\n",
      "\n",
      "          0       0.71      0.99      0.83    324701\n",
      "          1       0.92      0.17      0.28    161347\n",
      "\n",
      "avg / total       0.78      0.72      0.65    486048\n",
      "\n",
      "\tDone in 9.45 s\n",
      "Cross validation...\n",
      "\tAccuracy: 0.72 (+/- 0.00)\n",
      "\tF1 score: 0.28 (+/- 0.01)\n",
      "\tDone in 141.27 s\n"
     ]
    }
   ],
   "source": [
    "trial(X_randomTrees, Y, LogisticRegression(), 'Random Trees Embedding')"
   ]
  },
  {
   "cell_type": "code",
   "execution_count": 17,
   "metadata": {
    "collapsed": false
   },
   "outputs": [
    {
     "name": "stdout",
     "output_type": "stream",
     "text": [
      "trees\n",
      "             precision    recall  f1-score   support\n",
      "\n",
      "          0       1.00      1.00      1.00      3343\n",
      "          1       1.00      1.00      1.00      1657\n",
      "\n",
      "avg / total       1.00      1.00      1.00      5000\n",
      "\n",
      "\tDone in 0.10 s\n",
      "Cross validation...\n",
      "\tAccuracy: 0.70 (+/- 0.03)\n",
      "\tF1 score: 0.41 (+/- 0.06)\n",
      "\tDone in 1.25 s\n"
     ]
    }
   ],
   "source": [
    "trees = ExtraTreesClassifier()\n",
    "trial(Xp, Yp, trees, 'trees')"
   ]
  },
  {
   "cell_type": "code",
   "execution_count": 18,
   "metadata": {
    "collapsed": false
   },
   "outputs": [
    {
     "name": "stdout",
     "output_type": "stream",
     "text": [
      "Naive bayes\n",
      "             precision    recall  f1-score   support\n",
      "\n",
      "          0       0.71      0.96      0.82    324701\n",
      "          1       0.73      0.19      0.31    161347\n",
      "\n",
      "avg / total       0.72      0.71      0.65    486048\n",
      "\n",
      "\tDone in 0.35 s\n",
      "Cross validation...\n",
      "\tAccuracy: 0.71 (+/- 0.00)\n",
      "\tF1 score: 0.31 (+/- 0.01)\n",
      "\tDone in 4.56 s\n",
      "Naive bayes\n",
      "             precision    recall  f1-score   support\n",
      "\n",
      "          0       0.72      0.86      0.78    324701\n",
      "          1       0.54      0.33      0.41    161347\n",
      "\n",
      "avg / total       0.66      0.68      0.66    486048\n",
      "\n",
      "\tDone in 1.18 s\n",
      "Cross validation...\n",
      "\tAccuracy: 0.68 (+/- 0.00)\n",
      "\tF1 score: 0.41 (+/- 0.01)\n",
      "\tDone in 41.89 s\n"
     ]
    }
   ],
   "source": [
    "from sklearn.naive_bayes import BernoulliNB\n",
    "nb = BernoulliNB()\n",
    "trial(X_randomTrees, Y, nb, 'Naive bayes')\n",
    "trial(X, Y, nb, 'Naive bayes')"
   ]
  },
  {
   "cell_type": "code",
   "execution_count": 19,
   "metadata": {
    "collapsed": true
   },
   "outputs": [],
   "source": [
    "from sklearn.kernel_approximation import RBFSampler"
   ]
  },
  {
   "cell_type": "code",
   "execution_count": 20,
   "metadata": {
    "collapsed": false
   },
   "outputs": [
    {
     "name": "stdout",
     "output_type": "stream",
     "text": [
      "RBF transformation\n",
      "             precision    recall  f1-score   support\n",
      "\n",
      "          0       1.00      1.00      1.00      3343\n",
      "          1       1.00      1.00      1.00      1657\n",
      "\n",
      "avg / total       1.00      1.00      1.00      5000\n",
      "\n",
      "\tDone in 0.29 s\n",
      "Cross validation...\n",
      "\tAccuracy: 0.64 (+/- 0.03)\n",
      "\tF1 score: 0.16 (+/- 0.08)\n",
      "\tDone in 1.54 s\n"
     ]
    }
   ],
   "source": [
    "rbf_feature = RBFSampler(gamma=1, random_state=1)\n",
    "X_rbf = rbf_feature.fit_transform(Xp)\n",
    "trial(X_rbf, Yp, trees, 'RBF transformation')"
   ]
  },
  {
   "cell_type": "markdown",
   "metadata": {},
   "source": [
    "## Manifold learning"
   ]
  },
  {
   "cell_type": "code",
   "execution_count": 21,
   "metadata": {
    "collapsed": false
   },
   "outputs": [
    {
     "name": "stdout",
     "output_type": "stream",
     "text": [
      "Nearest neigbors\n",
      "             precision    recall  f1-score   support\n",
      "\n",
      "          0       1.00      1.00      1.00      3343\n",
      "          1       1.00      1.00      1.00      1657\n",
      "\n",
      "avg / total       1.00      1.00      1.00      5000\n",
      "\n",
      "\tDone in 0.83 s\n",
      "Cross validation...\n",
      "\tAccuracy: 0.61 (+/- 0.04)\n",
      "\tF1 score: 0.41 (+/- 0.05)\n",
      "\tDone in 1.58 s\n"
     ]
    }
   ],
   "source": [
    "from sklearn import neighbors\n",
    "nnc = neighbors.KNeighborsClassifier(n_neighbors = 1,\n",
    "                                     weights='uniform',\n",
    "                                     algorithm='kd_tree')\n",
    "trial(Xp, Yp, nnc, 'K Neighbors')"
   ]
  },
  {
   "cell_type": "code",
   "execution_count": 22,
   "metadata": {
    "collapsed": false
   },
   "outputs": [
    {
     "name": "stdout",
     "output_type": "stream",
     "text": [
      "Nearest neigbors\n",
      "             precision    recall  f1-score   support\n",
      "\n",
      "          0       1.00      1.00      1.00      3343\n",
      "          1       1.00      1.00      1.00      1657\n",
      "\n",
      "avg / total       1.00      1.00      1.00      5000\n",
      "\n",
      "\tDone in 0.69 s\n",
      "Cross validation...\n",
      "\tAccuracy: 0.63 (+/- 0.03)\n",
      "\tF1 score: 0.39 (+/- 0.04)\n",
      "\tDone in 1.44 s\n"
     ]
    }
   ],
   "source": [
    "nnc = neighbors.KNeighborsClassifier(n_neighbors = 4,\n",
    "                                     weights='distance',\n",
    "                                     algorithm='auto')\n",
    "trial(Xp, Yp, nnc, 'Nearest neigbors')"
   ]
  },
  {
   "cell_type": "code",
   "execution_count": 23,
   "metadata": {
    "collapsed": false
   },
   "outputs": [
    {
     "name": "stdout",
     "output_type": "stream",
     "text": [
      "Radius neigbors classiflier\n",
      "             precision    recall  f1-score   support\n",
      "\n",
      "          0       0.67      1.00      0.80      3343\n",
      "          1       0.00      0.00      0.00      1657\n",
      "\n",
      "avg / total       0.45      0.67      0.54      5000\n",
      "\n",
      "\tDone in 15.36 s\n",
      "Cross validation...\n",
      "\tAccuracy: 0.67 (+/- 0.00)\n",
      "\tF1 score: 0.00 (+/- 0.00)\n",
      "\tDone in 12.97 s\n"
     ]
    }
   ],
   "source": [
    "from sklearn.neighbors import RadiusNeighborsClassifier\n",
    "\n",
    "rnc = RadiusNeighborsClassifier(radius=100)\n",
    "trial(Xp_scaled, Yp, rnc, 'Radius neighbors classiflier')"
   ]
  },
  {
   "cell_type": "markdown",
   "metadata": {},
   "source": [
    "## Multi layer peceptron"
   ]
  },
  {
   "cell_type": "code",
   "execution_count": 24,
   "metadata": {
    "collapsed": false
   },
   "outputs": [
    {
     "name": "stdout",
     "output_type": "stream",
     "text": [
      "Multi layer perceptron\n",
      "             precision    recall  f1-score   support\n",
      "\n",
      "          0       0.00      0.00      0.00      3343\n",
      "          1       0.33      1.00      0.50      1657\n",
      "\n",
      "avg / total       0.11      0.33      0.16      5000\n",
      "\n",
      "\tDone in 0.80 s\n",
      "Cross validation...\n",
      "\tAccuracy: 0.33 (+/- 0.00)\n",
      "\tF1 score: 0.50 (+/- 0.00)\n",
      "\tDone in 11.18 s\n"
     ]
    }
   ],
   "source": [
    "from sklearn.neural_network import MLPClassifier\n",
    "\n",
    "mlp = MLPClassifier(solver='lbfgs', alpha=1e-5, activation='relu',\n",
    "                    hidden_layer_sizes=(100,33), random_state=10, tol=1e-9,\n",
    "                    max_iter=400)\n",
    "\n",
    "trial(Xp, Yp, mlp, 'Multi layer perceptron')"
   ]
  },
  {
   "cell_type": "code",
   "execution_count": 25,
   "metadata": {
    "collapsed": false
   },
   "outputs": [
    {
     "name": "stdout",
     "output_type": "stream",
     "text": [
      "The best parameters are {'tol': 1e-05, 'activation': 'identity', 'alpha': 1.0, 'learning_rate': 'adaptive', 'hidden_layer_sizes': (100, 33), 'solver': 'lbfgs', 'max_iter': 400} with a score of 0.50\n",
      "\tDone in 11507.70 s\n"
     ]
    }
   ],
   "source": [
    "parameters = {'solver': ['lbfgs'],\n",
    "              'alpha': 10.0 ** -np.arange(-1, 7),\n",
    "              'hidden_layer_sizes': [(100,33)],\n",
    "              'activation': ['identity', 'logistic', 'tanh', 'relu'],\n",
    "              'max_iter' : [400],\n",
    "              'tol': [1e-5, 1e-9],\n",
    "              'learning_rate': ['constant', 'invscaling', 'adaptive']\n",
    "             }\n",
    "mlp = MLPClassifier()\n",
    "# cv = StratifiedShuffleSplit(n_splits=10)\n",
    "skf = StratifiedKFold(n_splits=10, shuffle=True)\n",
    "clf = GridSearchCV(mlp, parameters, cv=skf, n_jobs=-1, scoring='f1')\n",
    "start_time = time()\n",
    "# clf.fit(Xp, Yp)\n",
    "#\n",
    "# The best parameters are {'tol': 1e-05, 'activation': 'identity', 'alpha': 1.0, 'learning_rate': 'adaptive', 'hidden_layer_sizes': (100, 33), 'solver': 'lbfgs', 'max_iter': 400} with a score of 0.50\n",
    "# Done in 11507.70 s\n",
    "\n",
    "print(\"The best parameters are %s with a score of %0.2f\"\n",
    "      % (clf.best_params_, clf.best_score_))\n",
    "print (\"\\tDone in %.2f s\" % (time() - start_time))"
   ]
  },
  {
   "cell_type": "code",
   "execution_count": 26,
   "metadata": {
    "collapsed": false
   },
   "outputs": [
    {
     "name": "stdout",
     "output_type": "stream",
     "text": [
      "Multi layer perceptron\n",
      "             precision    recall  f1-score   support\n",
      "\n",
      "          0       0.67      1.00      0.80      3343\n",
      "          1       0.43      0.00      0.00      1657\n",
      "\n",
      "avg / total       0.59      0.67      0.54      5000\n",
      "\n",
      "\tDone in 0.60 s\n",
      "Cross validation...\n",
      "\tAccuracy: 0.67 (+/- 0.00)\n",
      "\tF1 score: 0.19 (+/- 0.34)\n",
      "\tDone in 12.21 s\n"
     ]
    }
   ],
   "source": [
    "mlp = MLPClassifier(solver='lbfgs', alpha=1e-6,\n",
    "                    hidden_layer_sizes=(100,33), \n",
    "                    learning_rate='invscaling',\n",
    "                    tol = 1e-5)\n",
    "\n",
    "trial(Xp, Yp, mlp, 'Multi layer perceptron')"
   ]
  },
  {
   "cell_type": "code",
   "execution_count": 27,
   "metadata": {
    "collapsed": false
   },
   "outputs": [
    {
     "name": "stdout",
     "output_type": "stream",
     "text": [
      "start\n",
      "The best parameters are {'weights': 'uniform', 'n_neighbors': 1} with a score of 0.41\n",
      "\tDone in 40.58 s\n"
     ]
    }
   ],
   "source": [
    "parameters = {'n_neighbors': [1, 2, 4, 10, 20],\n",
    "              'weights': ['uniform', 'distance']}\n",
    "\n",
    "ncc = neighbors.KNeighborsClassifier()\n",
    "# cv = StratifiedShuffleSplit(n_splits=10)\n",
    "skf = StratifiedKFold(n_splits=10, shuffle=True)\n",
    "clf = GridSearchCV(ncc, parameters, cv=skf, n_jobs=-1, scoring='f1')\n",
    "start_time = time()\n",
    "print (\"start\")\n",
    "clf.fit(Xp, Yp)\n",
    "print(\"The best parameters are %s with a score of %0.2f\"\n",
    "      % (clf.best_params_, clf.best_score_))\n",
    "print (\"\\tDone in %.2f s\" % (time() - start_time))"
   ]
  },
  {
   "cell_type": "code",
   "execution_count": 35,
   "metadata": {
    "collapsed": false
   },
   "outputs": [
    {
     "name": "stdout",
     "output_type": "stream",
     "text": [
      "start\n",
      "The best parameters are {'class_weight': 'balanced', 'max_depth': 100, 'n_estimators': 1024, 'min_samples_split': 256} with a score of 0.51\n",
      "\tDone in 2424.40 s\n"
     ]
    },
    {
     "data": {
      "text/plain": [
       "\"start\\nThe best parameters are {'class_weight': 'balanced_subsample', 'max_depth': None, 'n_estimators': 1024, 'min_samples_split': 256} with a score of 0.51\\nDone in 1698.70 s\\n\""
      ]
     },
     "execution_count": 35,
     "metadata": {},
     "output_type": "execute_result"
    }
   ],
   "source": [
    "parameters = {'n_estimators': [1024, 2048],\n",
    "              'min_samples_split': [128, 256, 512, 600, 1024],\n",
    "              'class_weight': ['balanced', 'balanced_subsample'],\n",
    "              'max_depth': [100, None]\n",
    "             }\n",
    "\n",
    "trees = ExtraTreesClassifier()\n",
    "skf = StratifiedKFold(n_splits=10, shuffle=True)\n",
    "clf = GridSearchCV(trees, parameters, cv=skf, n_jobs=-1, scoring='f1')\n",
    "start_time = time()\n",
    "print (\"start\")\n",
    "# clf.fit(Xp, Yp)\n",
    "print(\"The best parameters are %s with a score of %0.2f\"\n",
    "      % (clf.best_params_, clf.best_score_))\n",
    "print (\"\\tDone in %.2f s\" % (time() - start_time))\n",
    "\n",
    "'''start\n",
    "The best parameters are {'class_weight': 'balanced_subsample', 'max_depth': None, 'n_estimators': 1024, 'min_samples_split': 256} with a score of 0.51\n",
    "Done in 1698.70 s\n",
    "'''"
   ]
  },
  {
   "cell_type": "code",
   "execution_count": null,
   "metadata": {
    "collapsed": false
   },
   "outputs": [
    {
     "name": "stdout",
     "output_type": "stream",
     "text": [
      "Extra tree classifier optimized\n",
      "             precision    recall  f1-score   support\n",
      "\n",
      "          0       0.81      0.81      0.81      3343\n",
      "          1       0.62      0.62      0.62      1657\n",
      "\n",
      "avg / total       0.75      0.75      0.75      5000\n",
      "\n",
      "\tDone in 9.27 s\n",
      "Cross validation...\n"
     ]
    }
   ],
   "source": [
    "trees = ExtraTreesClassifier(class_weight='balanced',\n",
    "                             n_estimators=1024,\n",
    "                             min_samples_split=256)\n",
    "\n",
    "trial(Xp, Yp, trees, 'Extra tree classifier optimized')"
   ]
  }
 ],
 "metadata": {
  "kernelspec": {
   "display_name": "Python 3",
   "language": "python",
   "name": "python3"
  },
  "language_info": {
   "codemirror_mode": {
    "name": "ipython",
    "version": 3
   },
   "file_extension": ".py",
   "mimetype": "text/x-python",
   "name": "python",
   "nbconvert_exporter": "python",
   "pygments_lexer": "ipython3",
   "version": "3.5.2+"
  }
 },
 "nbformat": 4,
 "nbformat_minor": 1
}
