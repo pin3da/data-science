{
 "cells": [
  {
   "cell_type": "code",
   "execution_count": 1,
   "metadata": {
    "collapsed": true
   },
   "outputs": [],
   "source": [
    "import numpy as np\n",
    "\n",
    "from time import time\n",
    "from sklearn.cluster import MiniBatchKMeans\n",
    "from sklearn.metrics.cluster import v_measure_score\n",
    "from sklearn.metrics import f1_score\n",
    "from sklearn.model_selection import train_test_split\n",
    "from sklearn.model_selection import cross_val_score\n",
    "from sklearn.model_selection import StratifiedKFold"
   ]
  },
  {
   "cell_type": "code",
   "execution_count": 2,
   "metadata": {
    "collapsed": false
   },
   "outputs": [
    {
     "name": "stdout",
     "output_type": "stream",
     "text": [
      "(486048, 53)\n"
     ]
    }
   ],
   "source": [
    "X = np.loadtxt('../data.txt')\n",
    "Y = np.loadtxt('../label.txt').astype(int)\n",
    "\n",
    "X = np.nan_to_num(X)\n",
    "print (X.shape)"
   ]
  },
  {
   "cell_type": "code",
   "execution_count": 3,
   "metadata": {
    "collapsed": false
   },
   "outputs": [],
   "source": [
    "def trial(X, Y, method, name, scoring='f1'):\n",
    "    print (name)\n",
    "    start_time = time()\n",
    "    method.fit(X, Y)\n",
    "    y_pred = method.predict(X)\n",
    "    print (\"Done in %.2f s\\nV-measure: \\t%.4f\" % (time() - start_time, v_measure_score(Y, y_pred)))\n",
    "    print (\"F1 score \\t%.4f\" % (f1_score(Y, y_pred)))\n",
    "\n",
    "    if (f1_score(Y, y_pred) < 0.2):\n",
    "        return\n",
    "    \n",
    "    print (\"Cross validation...\")\n",
    "    start_time = time()\n",
    "    skf = StratifiedKFold(n_splits=10, shuffle=True)\n",
    "    if (scoring):\n",
    "        scores = cross_val_score(method, X, Y, cv=skf, scoring=scoring)\n",
    "    else:\n",
    "        scores = cross_val_score(method, X, Y, cv=skf)\n",
    "    print (scores)\n",
    "    print (\"Accuracy: %0.2f (+/- %0.2f)\" % (scores.mean(), scores.std() * 2))\n",
    "    print (\"Done in %.2f s\" % (time() - start_time))"
   ]
  },
  {
   "cell_type": "markdown",
   "metadata": {},
   "source": [
    "## Mini Batch KMeans"
   ]
  },
  {
   "cell_type": "code",
   "execution_count": 4,
   "metadata": {
    "collapsed": false
   },
   "outputs": [
    {
     "name": "stdout",
     "output_type": "stream",
     "text": [
      "Mini batch k-means\n",
      "Done in 0.50 s\n",
      "V-measure: \t0.1109\n",
      "F1 score \t0.2671\n",
      "Cross validation...\n",
      "[ 0.10636151  0.10793758  0.10595543  0.11099359  0.1038452   0.10708492\n",
      "  0.10641117  0.1043727   0.10931233  0.10532558]\n",
      "Accuracy: 0.11 (+/- 0.00)\n",
      "Done in 4.87 s\n"
     ]
    }
   ],
   "source": [
    "kmeans = MiniBatchKMeans(n_clusters=2, batch_size=2000,\n",
    "                         random_state=0)\n",
    "\n",
    "trial(X, Y, kmeans, 'Mini batch k-means', 'adjusted_rand_score')"
   ]
  },
  {
   "cell_type": "markdown",
   "metadata": {},
   "source": [
    "## Stochastic Gradient Descent\n",
    "\n",
    "Cost L2"
   ]
  },
  {
   "cell_type": "code",
   "execution_count": 5,
   "metadata": {
    "collapsed": false
   },
   "outputs": [
    {
     "name": "stdout",
     "output_type": "stream",
     "text": [
      "Stochastic gradient descent SVM\n",
      "Done in 0.91 s\n",
      "V-measure: \t0.1164\n",
      "F1 score \t0.2822\n",
      "Cross validation...\n",
      "[ 0.27078914  0.28592383  0.02590104  0.49845536  0.49845536  0.49845536\n",
      "  0.25691889  0.27260743  0.28504061  0.49816023]\n",
      "Accuracy: 0.34 (+/- 0.30)\n",
      "Done in 9.34 s\n",
      "Stochastic gradient descent Logreg\n",
      "Done in 0.89 s\n",
      "V-measure: \t0.0008\n",
      "F1 score \t0.0022\n"
     ]
    }
   ],
   "source": [
    "from sklearn.linear_model import SGDClassifier\n",
    "\n",
    "sgd = SGDClassifier(loss=\"hinge\", penalty=\"l2\")\n",
    "trial(X, Y, sgd, 'Stochastic gradient descent SVM')\n",
    "sgd = SGDClassifier(loss=\"log\", penalty=\"l2\")\n",
    "trial(X, Y, sgd, 'Stochastic gradient descent Logreg')"
   ]
  },
  {
   "cell_type": "code",
   "execution_count": 6,
   "metadata": {
    "collapsed": false
   },
   "outputs": [
    {
     "name": "stdout",
     "output_type": "stream",
     "text": [
      "Stochastic gradient descent Logreg elasticnet\n",
      "Done in 1.54 s\n",
      "V-measure: \t0.0000\n",
      "F1 score \t0.4984\n",
      "Cross validation...\n",
      "[ 0.28825809  0.25628436  0.49845536  0.28388451  0.4981993   0.49845536\n",
      "  0.27916513  0.28568432  0.11187427  0.49843987]\n",
      "Accuracy: 0.35 (+/- 0.26)\n",
      "Done in 16.16 s\n"
     ]
    }
   ],
   "source": [
    "sgd = SGDClassifier(loss=\"log\", penalty=\"elasticnet\")\n",
    "trial(X, Y, sgd, 'Stochastic gradient descent Logreg elasticnet')"
   ]
  },
  {
   "cell_type": "markdown",
   "metadata": {},
   "source": [
    "## Nearest Neighbors Classification\n",
    "\n",
    "Based in manifold learning and spectral clustering"
   ]
  },
  {
   "cell_type": "code",
   "execution_count": 7,
   "metadata": {
    "collapsed": false
   },
   "outputs": [
    {
     "name": "stdout",
     "output_type": "stream",
     "text": [
      "Nearest neigbors\n",
      "Done in 0.67 s\n",
      "V-measure: \t0.1751\n",
      "F1 score \t0.5814\n",
      "Cross validation...\n",
      "[ 0.34686347  0.39694656  0.38376384  0.36434109  0.32713755  0.38235294\n",
      "  0.43478261  0.36641221  0.39393939  0.37174721]\n",
      "Accuracy: 0.38 (+/- 0.06)\n",
      "Done in 0.85 s\n"
     ]
    }
   ],
   "source": [
    "from sklearn import neighbors\n",
    "from sklearn.utils import resample\n",
    "\n",
    "Xp, Yp = resample(X, Y, n_samples=5000)\n",
    "nnc = neighbors.KNeighborsClassifier()\n",
    "trial(Xp, Yp, nnc, 'Nearest neigbors')"
   ]
  },
  {
   "cell_type": "markdown",
   "metadata": {},
   "source": [
    "## Kernel SVC\n",
    "\n",
    "~~El mejor hasta ahora~~"
   ]
  },
  {
   "cell_type": "code",
   "execution_count": 8,
   "metadata": {
    "collapsed": false
   },
   "outputs": [
    {
     "name": "stdout",
     "output_type": "stream",
     "text": [
      "SVC\n",
      "Done in 3.88 s\n",
      "V-measure: \t1.0000\n",
      "F1 score \t1.0000\n",
      "Cross validation...\n"
     ]
    },
    {
     "name": "stderr",
     "output_type": "stream",
     "text": [
      "/usr/local/lib/python3.5/dist-packages/sklearn/metrics/classification.py:1113: UndefinedMetricWarning: F-score is ill-defined and being set to 0.0 due to no predicted samples.\n",
      "  'precision', 'predicted', average, warn_for)\n"
     ]
    },
    {
     "name": "stdout",
     "output_type": "stream",
     "text": [
      "[ 0.01219512  0.03614458  0.01219512  0.          0.03614458  0.02424242\n",
      "  0.01219512  0.02424242  0.01226994  0.04819277]\n",
      "Accuracy: 0.02 (+/- 0.03)\n",
      "Done in 18.80 s\n"
     ]
    }
   ],
   "source": [
    "from sklearn.svm import SVC\n",
    "\n",
    "trial(Xp, Yp, SVC(), 'SVC')"
   ]
  },
  {
   "cell_type": "markdown",
   "metadata": {},
   "source": [
    "## Linear models"
   ]
  },
  {
   "cell_type": "code",
   "execution_count": 9,
   "metadata": {
    "collapsed": false
   },
   "outputs": [
    {
     "name": "stdout",
     "output_type": "stream",
     "text": [
      "Perceptron\n",
      "Done in 0.80 s\n",
      "V-measure: \t0.1160\n",
      "F1 score \t0.2823\n",
      "Cross validation...\n",
      "[ 0.28492059  0.02430831  0.28015769  0.26421725  0.49845536  0.28003366\n",
      "  0.49817631  0.27126534  0.27138019  0.49843987]\n",
      "Accuracy: 0.32 (+/- 0.28)\n",
      "Done in 9.62 s\n",
      "Log Reg\n",
      "Done in 2.32 s\n",
      "V-measure: \t0.1164\n",
      "F1 score \t0.2822\n",
      "Cross validation...\n",
      "[ 0.27981507  0.28266583  0.2794195   0.28935548  0.28698799  0.28670229\n",
      "  0.27824621  0.27661482  0.2804692   0.28142767]\n",
      "Accuracy: 0.28 (+/- 0.01)\n",
      "Done in 22.27 s\n"
     ]
    }
   ],
   "source": [
    "from sklearn.linear_model import SGDClassifier, Perceptron\n",
    "from sklearn.linear_model import PassiveAggressiveClassifier\n",
    "from sklearn.linear_model import LogisticRegression\n",
    "\n",
    "trial(X, Y, Perceptron(), 'Perceptron')\n",
    "trial(X, Y, LogisticRegression(), 'Log Reg')"
   ]
  },
  {
   "cell_type": "code",
   "execution_count": 10,
   "metadata": {
    "collapsed": false
   },
   "outputs": [],
   "source": [
    "%matplotlib inline\n",
    "\n",
    "def plots(X, y):\n",
    "    import matplotlib.pyplot as plt\n",
    "    from sklearn.svm import SVC\n",
    "    from sklearn.svm import LinearSVC\n",
    "    from sklearn.model_selection import validation_curve\n",
    "    \n",
    "    param_range = np.logspace(-6, -1, 5)\n",
    "    train_scores, test_scores = validation_curve(\n",
    "        SVC(), X, y, param_name=\"gamma\", param_range=param_range,\n",
    "        cv=10, scoring=\"f1\", n_jobs=1)\n",
    "    train_scores_mean = np.mean(train_scores, axis=1)\n",
    "    train_scores_std = np.std(train_scores, axis=1)\n",
    "    test_scores_mean = np.mean(test_scores, axis=1)\n",
    "    test_scores_std = np.std(test_scores, axis=1)\n",
    "\n",
    "    plt.title(\"Validation Curve with SVM\")\n",
    "    plt.xlabel(\"$\\gamma$\")\n",
    "    plt.ylabel(\"Score\")\n",
    "    plt.ylim(0.0, 1.1)\n",
    "    lw = 2\n",
    "    plt.semilogx(param_range, train_scores_mean, label=\"Training score\",\n",
    "                 color=\"darkorange\", lw=lw)\n",
    "    plt.fill_between(param_range, train_scores_mean - train_scores_std,\n",
    "                     train_scores_mean + train_scores_std, alpha=0.2,\n",
    "                     color=\"darkorange\", lw=lw)\n",
    "    plt.semilogx(param_range, test_scores_mean, label=\"Cross-validation score\",\n",
    "                 color=\"navy\", lw=lw)\n",
    "    plt.fill_between(param_range, test_scores_mean - test_scores_std,\n",
    "                     test_scores_mean + test_scores_std, alpha=0.2,\n",
    "                     color=\"navy\", lw=lw)\n",
    "    plt.legend(loc=\"best\")\n",
    "    plt.show()\n",
    "    \n",
    "# plots(Xp, Yp)"
   ]
  },
  {
   "cell_type": "markdown",
   "metadata": {},
   "source": [
    "## Random"
   ]
  },
  {
   "cell_type": "code",
   "execution_count": 11,
   "metadata": {
    "collapsed": false
   },
   "outputs": [
    {
     "name": "stdout",
     "output_type": "stream",
     "text": [
      "f1 score 0.3981\n"
     ]
    }
   ],
   "source": [
    "y_pred = np.random.randint(0, 2, Y.shape[0])\n",
    "print (\"f1 score %.4f\" % f1_score(Y, y_pred))"
   ]
  },
  {
   "cell_type": "markdown",
   "metadata": {},
   "source": [
    "## Visualization"
   ]
  },
  {
   "cell_type": "code",
   "execution_count": 50,
   "metadata": {
    "collapsed": false
   },
   "outputs": [
    {
     "data": {
      "image/png": "[encoded data removed]",
      "text/plain": [
       "<matplotlib.figure.Figure at 0x7fe2abe453c8>"
      ]
     },
     "metadata": {},
     "output_type": "display_data"
    },
    {
     "data": {
      "image/png": "[encoded data removed]",
      "text/plain": [
       "<matplotlib.figure.Figure at 0x7fe2abdc2f28>"
      ]
     },
     "metadata": {},
     "output_type": "display_data"
    }
   ],
   "source": [
    "import matplotlib.pyplot as plt\n",
    "# import seaborn\n",
    "from sklearn.decomposition import PCA, KernelPCA\n",
    "\n",
    "Xp, Yp = resample(X, Y, n_samples=5000)\n",
    "kpca = KernelPCA(n_components=2, kernel=\"rbf\", gamma=0.001)\n",
    "X_kpca = kpca.fit_transform(Xp)\n",
    "pca = PCA(n_components=2)\n",
    "X_pca = pca.fit_transform(Xp)\n",
    "reds = Yp == 0\n",
    "blues = Yp == 1\n",
    "\n",
    "plt.plot(X_kpca[reds, 0], X_kpca[reds, 1], \"rx\")\n",
    "plt.plot(X_kpca[blues, 0], X_kpca[blues, 1], \"bo\")\n",
    "plt.title('Kernel PCA')\n",
    "plt.show()\n",
    "plt.plot(X_pca[reds, 0], X_pca[reds, 1], \"rx\")\n",
    "plt.plot(X_pca[blues, 0], X_pca[blues, 1], \"bo\")\n",
    "plt.title('PCA')\n",
    "plt.show()"
   ]
  },
  {
   "cell_type": "code",
   "execution_count": 13,
   "metadata": {
    "collapsed": false
   },
   "outputs": [],
   "source": [
    "# trial(Xp, Yp, SVC(gamma=0.5), 'SVC')"
   ]
  },
  {
   "cell_type": "code",
   "execution_count": 14,
   "metadata": {
    "collapsed": false
   },
   "outputs": [
    {
     "name": "stdout",
     "output_type": "stream",
     "text": [
      "sgd log\n",
      "Done in 1.02 s\n",
      "V-measure: \t0.1164\n",
      "F1 score \t0.2822\n",
      "Cross validation...\n",
      "[ 0.28472477  0.49845536  0.01742331  0.0208244   0.28183059  0.49845536\n",
      "  0.26258438  0.49843987  0.49843987  0.49843987]\n",
      "Accuracy: 0.34 (+/- 0.37)\n",
      "Done in 10.76 s\n"
     ]
    }
   ],
   "source": [
    "trial(X, Y, SGDClassifier(loss=\"log\", penalty=\"l2\"), 'sgd log')"
   ]
  },
  {
   "cell_type": "code",
   "execution_count": 15,
   "metadata": {
    "collapsed": false
   },
   "outputs": [
    {
     "name": "stdout",
     "output_type": "stream",
     "text": [
      "HOpeee\n",
      "Done in 1.39 s\n",
      "V-measure: \t0.0000\n",
      "F1 score \t0.0000\n"
     ]
    },
    {
     "name": "stderr",
     "output_type": "stream",
     "text": [
      "/usr/local/lib/python3.5/dist-packages/sklearn/metrics/classification.py:1113: UndefinedMetricWarning: F-score is ill-defined and being set to 0.0 due to no predicted samples.\n",
      "  'precision', 'predicted', average, warn_for)\n"
     ]
    }
   ],
   "source": [
    "from sklearn.kernel_approximation import RBFSampler, Nystroem\n",
    "from sklearn.linear_model import SGDClassifier\n",
    "\n",
    "rbf_feature = RBFSampler()\n",
    "X_features = rbf_feature.fit_transform(X)\n",
    "clf = SGDClassifier()   \n",
    "trial(X_features, Y, clf, 'HOpeee')"
   ]
  },
  {
   "cell_type": "code",
   "execution_count": 16,
   "metadata": {
    "collapsed": false
   },
   "outputs": [
    {
     "name": "stdout",
     "output_type": "stream",
     "text": [
      "HOpeee\n",
      "Done in 1.39 s\n",
      "V-measure: \t0.0000\n",
      "F1 score \t0.0000\n",
      "Stochastic gradient descent Logreg\n"
     ]
    },
    {
     "name": "stderr",
     "output_type": "stream",
     "text": [
      "/usr/local/lib/python3.5/dist-packages/sklearn/metrics/classification.py:1113: UndefinedMetricWarning: F-score is ill-defined and being set to 0.0 due to no predicted samples.\n",
      "  'precision', 'predicted', average, warn_for)\n"
     ]
    },
    {
     "name": "stdout",
     "output_type": "stream",
     "text": [
      "Done in 1.68 s\n",
      "V-measure: \t0.0000\n",
      "F1 score \t0.0000\n"
     ]
    }
   ],
   "source": [
    "rbf_feature = Nystroem()\n",
    "X_features = rbf_feature.fit_transform(X)\n",
    "clf = SGDClassifier()   \n",
    "trial(X_features, Y, clf, 'HOpeee')\n",
    "sgd = SGDClassifier(loss=\"log\", penalty=\"l2\")\n",
    "trial(X_features, Y, sgd, 'Stochastic gradient descent Logreg')"
   ]
  },
  {
   "cell_type": "code",
   "execution_count": 53,
   "metadata": {
    "collapsed": false
   },
   "outputs": [
    {
     "name": "stdout",
     "output_type": "stream",
     "text": [
      "SVC\n",
      "Done in 4.19 s\n",
      "V-measure: \t0.0000\n",
      "F1 score \t0.0000\n"
     ]
    },
    {
     "name": "stderr",
     "output_type": "stream",
     "text": [
      "/usr/local/lib/python3.5/dist-packages/sklearn/metrics/classification.py:1113: UndefinedMetricWarning: F-score is ill-defined and being set to 0.0 due to no predicted samples.\n",
      "  'precision', 'predicted', average, warn_for)\n"
     ]
    }
   ],
   "source": [
    "rbf_feature = Nystroem()\n",
    "X_features = rbf_feature.fit_transform(Xp)\n",
    "trial(X_features, Yp, SVC(), 'SVC')"
   ]
  },
  {
   "cell_type": "code",
   "execution_count": 54,
   "metadata": {
    "collapsed": false
   },
   "outputs": [
    {
     "name": "stdout",
     "output_type": "stream",
     "text": [
      "Multi layer perceptron\n",
      "Done in 0.57 s\n",
      "V-measure: \t0.0000\n",
      "F1 score \t0.4928\n",
      "Cross validation...\n",
      "[ 0.49323308  0.49323308  0.49323308  0.49323308  0.49323308  0.49244713\n",
      "  0.49244713  0.49244713  0.49244713  0.49244713]\n",
      "Accuracy: 0.49 (+/- 0.00)\n",
      "Done in 5.86 s\n"
     ]
    }
   ],
   "source": [
    "from sklearn.neural_network import MLPClassifier\n",
    "\n",
    "mlp = MLPClassifier(solver='lbfgs', alpha=1e-7, activation='relu',\n",
    "                    hidden_layer_sizes=(100,33), random_state=10)\n",
    "\n",
    "trial(Xp, Yp, mlp, 'Multi layer perceptron')"
   ]
  },
  {
   "cell_type": "code",
   "execution_count": 19,
   "metadata": {
    "collapsed": false
   },
   "outputs": [
    {
     "name": "stdout",
     "output_type": "stream",
     "text": [
      "Scaled MLP\n",
      "Done in 1.01 s\n",
      "V-measure: \t0.1498\n",
      "F1 score \t0.5300\n",
      "Cross validation...\n",
      "[ 0.40754717  0.34980989  0.40143369  0.35338346  0.37837838  0.40304183\n",
      "  0.43824701  0.49253731  0.43181818  0.36567164]\n",
      "Accuracy: 0.40 (+/- 0.08)\n",
      "Done in 9.34 s\n"
     ]
    }
   ],
   "source": [
    "from sklearn.preprocessing import StandardScaler  \n",
    "scaler = StandardScaler()  \n",
    "scaler.fit(Xp)  \n",
    "X_train = scaler.transform(Xp)  \n",
    "trial(X_train, Yp, mlp, 'Scaled MLP')"
   ]
  },
  {
   "cell_type": "code",
   "execution_count": null,
   "metadata": {
    "collapsed": false,
    "scrolled": true
   },
   "outputs": [
    {
     "name": "stdout",
     "output_type": "stream",
     "text": [
      "Multi layer perceptron\n",
      "Done in 57.01 s\n",
      "V-measure: \t0.0000\n",
      "F1 score \t0.4984\n",
      "Cross validation...\n"
     ]
    }
   ],
   "source": [
    "trial(X, Y, mlp, 'Multi layer perceptron')"
   ]
  },
  {
   "cell_type": "code",
   "execution_count": 1,
   "metadata": {
    "collapsed": false
   },
   "outputs": [
    {
     "name": "stderr",
     "output_type": "stream",
     "text": [
      "/usr/local/lib/python3.5/dist-packages/sklearn/cross_validation.py:44: DeprecationWarning: This module was deprecated in version 0.18 in favor of the model_selection module into which all the refactored classes and functions are moved. Also note that the interface of the new CV iterators are different from that of this module. This module will be removed in 0.20.\n",
      "  \"This module will be removed in 0.20.\", DeprecationWarning)\n"
     ]
    },
    {
     "ename": "NameError",
     "evalue": "name 'trial' is not defined",
     "output_type": "error",
     "traceback": [
      "\u001b[0;31m---------------------------------------------------------------------------\u001b[0m",
      "\u001b[0;31mNameError\u001b[0m                                 Traceback (most recent call last)",
      "\u001b[0;32m<ipython-input-1-aa54431818c3>\u001b[0m in \u001b[0;36m<module>\u001b[0;34m()\u001b[0m\n\u001b[1;32m      1\u001b[0m \u001b[0;32mimport\u001b[0m \u001b[0mxgboost\u001b[0m \u001b[0;32mas\u001b[0m \u001b[0mxgb\u001b[0m\u001b[0;34m\u001b[0m\u001b[0m\n\u001b[1;32m      2\u001b[0m \u001b[0;31m# xgb.XGBClassifier()\u001b[0m\u001b[0;34m\u001b[0m\u001b[0;34m\u001b[0m\u001b[0m\n\u001b[0;32m----> 3\u001b[0;31m \u001b[0mtrial\u001b[0m\u001b[0;34m(\u001b[0m\u001b[0mXp\u001b[0m\u001b[0;34m,\u001b[0m \u001b[0mYp\u001b[0m\u001b[0;34m,\u001b[0m \u001b[0mxgb\u001b[0m\u001b[0;34m.\u001b[0m\u001b[0mXGBClassifier\u001b[0m\u001b[0;34m(\u001b[0m\u001b[0;34m)\u001b[0m\u001b[0;34m,\u001b[0m \u001b[0;34m'xbgoost'\u001b[0m\u001b[0;34m)\u001b[0m\u001b[0;34m\u001b[0m\u001b[0m\n\u001b[0m",
      "\u001b[0;31mNameError\u001b[0m: name 'trial' is not defined"
     ]
    }
   ],
   "source": [
    "import xgboost as xgb\n",
    "# xgb.XGBClassifier()\n",
    "trial(Xp, Yp, xgb.XGBClassifier(), 'xbgoost')"
   ]
  }
 ],
 "metadata": {
  "kernelspec": {
   "display_name": "Python 3",
   "language": "python",
   "name": "python3"
  },
  "language_info": {
   "codemirror_mode": {
    "name": "ipython",
    "version": 3
   },
   "file_extension": ".py",
   "mimetype": "text/x-python",
   "name": "python",
   "nbconvert_exporter": "python",
   "pygments_lexer": "ipython3",
   "version": "3.5.2+"
  }
 },
 "nbformat": 4,
 "nbformat_minor": 1
}
