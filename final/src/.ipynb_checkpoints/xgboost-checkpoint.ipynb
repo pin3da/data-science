{
 "cells": [
  {
   "cell_type": "code",
   "execution_count": 9,
   "metadata": {
    "collapsed": false
   },
   "outputs": [],
   "source": [
    "import numpy as np\n",
    "\n",
    "from time import time\n",
    "from sklearn.cluster import MiniBatchKMeans\n",
    "from sklearn.metrics.cluster import v_measure_score\n",
    "from sklearn.metrics import accuracy_score\n",
    "from sklearn.metrics import f1_score\n",
    "\n",
    "from sklearn.model_selection import train_test_split\n",
    "from sklearn.model_selection import cross_val_score\n",
    "from sklearn.model_selection import StratifiedKFold\n",
    "import xgboost as xgb"
   ]
  },
  {
   "cell_type": "code",
   "execution_count": 5,
   "metadata": {
    "collapsed": false
   },
   "outputs": [],
   "source": [
    "X = np.loadtxt('../data.txt')\n",
    "Y = np.loadtxt('../label.txt').astype(int)\n",
    "\n",
    "X = np.nan_to_num(X)"
   ]
  },
  {
   "cell_type": "code",
   "execution_count": 10,
   "metadata": {
    "collapsed": true
   },
   "outputs": [],
   "source": [
    "def trial(X, Y, method, name, scoring='f1'):\n",
    "    print (name)\n",
    "    start_time = time()\n",
    "    method.fit(X, Y)\n",
    "    y_pred = method.predict(X)\n",
    "    print (\"Done in %.2f s\\nV-measure: \\t%.4f\" % (time() - start_time, v_measure_score(Y, y_pred)))\n",
    "    print (\"F1 score \\t%.4f\" % (f1_score(Y, y_pred)))\n",
    "    print (\"Acurracy \\t%.4f\" % (accuracy_score(Y, y_pred)))\n",
    "    print (\"Cross validation...\")\n",
    "    start_time = time()\n",
    "    skf = StratifiedKFold(n_splits=10, shuffle=True)\n",
    "    scores = cross_val_score(method, X, Y, cv=skf, scoring=scoring)\n",
    "    accu = cross_val_score(method, X, Y, cv=skf)\n",
    "    print (scores)\n",
    "    print (\"\\tAccuracy: %0.2f (+/- %0.2f)\" % (accu.mean(), accu.std() * 2))\n",
    "    print (\"\\tF1 score: %0.2f (+/- %0.2f)\" % (scores.mean(), scores.std() * 2))\n",
    "    print (\"\\tDone in %.2f s\" % (time() - start_time)) "
   ]
  },
  {
   "cell_type": "code",
   "execution_count": 20,
   "metadata": {
    "collapsed": true
   },
   "outputs": [],
   "source": [
    "from sklearn.utils import resample\n",
    "from sklearn.model_selection import GridSearchCV\n",
    "\n",
    "Xp, Yp = resample(X, Y, n_samples = 5000)"
   ]
  },
  {
   "cell_type": "code",
   "execution_count": 25,
   "metadata": {
    "collapsed": false
   },
   "outputs": [
    {
     "name": "stdout",
     "output_type": "stream",
     "text": [
      "dict_keys(['colsample_bylevel', 'seed', 'learning_rate', 'max_delta_step', 'reg_lambda', 'missing', 'colsample_bytree', 'min_child_weight', 'base_score', 'gamma', 'silent', 'n_estimators', 'objective', 'reg_alpha', 'subsample', 'nthread', 'max_depth', 'scale_pos_weight'])\n"
     ]
    }
   ],
   "source": [
    "params = {\n",
    "    'objective' : [\"reg:logistic\"],\n",
    "    'booster' : [\"gbtree\"],\n",
    "    'eval_metric' : [\"auc\"],\n",
    "    'eta' : [0.05],\n",
    "    'max_depth' : [10],\n",
    "    'subsample' : [0.8],\n",
    "    'colsample_bytree' : [0.7],\n",
    "    'min_child_weight' : [1],\n",
    "    'num_boost_round' : [10, 20, 30]\n",
    "}\n",
    "\n",
    "xgb_model = xgb.XGBClassifier()\n",
    "print (xgb_model.get_params().keys())\n",
    "# clf = GridSearchCV(xgb_model, params, verbose=1)\n",
    "# trial(Xp, Yp, clf, 'xbgoost')"
   ]
  }
 ],
 "metadata": {
  "kernelspec": {
   "display_name": "Python 3",
   "language": "python",
   "name": "python3"
  },
  "language_info": {
   "codemirror_mode": {
    "name": "ipython",
    "version": 3
   },
   "file_extension": ".py",
   "mimetype": "text/x-python",
   "name": "python",
   "nbconvert_exporter": "python",
   "pygments_lexer": "ipython3",
   "version": "3.5.2+"
  }
 },
 "nbformat": 4,
 "nbformat_minor": 1
}
