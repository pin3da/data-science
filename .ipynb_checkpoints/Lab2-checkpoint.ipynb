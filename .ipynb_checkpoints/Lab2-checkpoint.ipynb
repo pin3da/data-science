{
 "cells": [
  {
   "cell_type": "markdown",
   "metadata": {},
   "source": [
    "## Laboratorio 2: Modelo lineal y minimos cuadrados.\n",
    "\n",
    "Manuel Felipe Pineda\n"
   ]
  },
  {
   "cell_type": "markdown",
   "metadata": {},
   "source": [
    "- Consulte para que sirven los comandos fmincon, fminsearch de MatLab: \n",
    "  \n",
    "  R:   \n",
    "    **fmincon**, es un optimizador de funciones multivariadas no lineales, sujetas a restricciones.\n",
    "    \n",
    "    **fminsearch**, tiene el mismo objetivo pero con la diferencia es que la funcion ya no tiene restricciones.\n",
    "  \n",
    "    Es importante resaltar que ninguno de los metodos necesita la derivada de las funciones para encontrar el minimo.\n",
    "    \n",
    "    Dado que ambas funciones son propias de matlab, se listan algunas alternativas open-source compatibles \n",
    "    con otros lenguajes y que cumplen las mismas funciones.\n",
    "    \n",
    "    [NLopt](http://ab-initio.mit.edu/wiki/index.php/NLopt) es una alternativa muy completa que se puede correr con \n",
    "    muchos lenguajes. Posee muchas funciones de optimizacion no lineal las cuales pueden resultar utiles en diferentes\n",
    "    escenarios.\n",
    "    \n",
    "    La segunda opcion es solo para python, [scipy](http://www.scipy.org/) es un paquete para python el cual incluye\n",
    "    una gran cantidad de metodos de optimizacion, entre ellos:\n",
    "    \n",
    "           - fmin_l_bfgs_b -- optimizacion L-BFGS-B con restricciones\n",
    "\n",
    "           - fmin_tnc      -- Metodo trucado de Newton.\n",
    "\n",
    "           - fmin_cobyla   -- Optimizacion con restricciones por aproximacion lineal\n",
    "           \n",
    "- Consulte la utilidad de la tecnica 'TSVD (descomposicion en valores singulares truncada) para lo solucion de problemas lineales.'\n",
    "\n",
    "  R: La TSVD es una aproximacion de la SVD pero con menor rango, computacionalmente es una ventaja importante dado que\n",
    "  muchas veces las matrices de la SVD contienen muchos ceros. Algunas aplicaciones practicas son la \n",
    "  compresion de imagenes y el analisis de la relacion entre conjuntos de documentos \n",
    "  [ver LSA](https://en.wikipedia.org/wiki/Latent_semantic_analysis)\n",
    "  \n",
    "  \n",
    "  "
   ]
  }
 ],
 "metadata": {
  "anaconda-cloud": {},
  "kernelspec": {
   "display_name": "Python [Root]",
   "language": "python",
   "name": "Python [Root]"
  },
  "language_info": {
   "codemirror_mode": {
    "name": "ipython",
    "version": 3
   },
   "file_extension": ".py",
   "mimetype": "text/x-python",
   "name": "python",
   "nbconvert_exporter": "python",
   "pygments_lexer": "ipython3",
   "version": "3.5.2"
  }
 },
 "nbformat": 4,
 "nbformat_minor": 1
}
