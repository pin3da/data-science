{
 "cells": [
  {
   "cell_type": "markdown",
   "metadata": {},
   "source": [
    "## Lab 1 Data science cource\n",
    "\n",
    "### Manuel Felipe Pineda\n",
    "\n"
   ]
  },
  {
   "cell_type": "markdown",
   "metadata": {},
   "source": [
    "#### Objetivo\n",
    "\n",
    "Repasar los conceptos basicos de álgebra matricial, probabilidades y estadística orientados al analisis de datos."
   ]
  },
  {
   "cell_type": "markdown",
   "metadata": {},
   "source": [
    "------------------\n",
    "\n",
    "1. Descargue una base de datos de su interés y describa brevemente qué tipos de datos contiene y qué fenómeno está describiendo.\n",
    "\n",
    "    R: Es una base de datos construida por freecodecamp y codenewbie donde entrevistan 15,000 personas que están aprendiendo a programar.\n",
    "    Su objetivo es entender la motivación de las personas para aprender a programar, cómo lo están haciendo, su demografía y el background socioeconómico.\n",
    "\n"
   ]
  },
  {
   "cell_type": "markdown",
   "metadata": {},
   "source": [
    "-------------\n",
    "\n",
    "2. Elija mínimo 10 variables y guardelas en una matriz de datos."
   ]
  },
  {
   "cell_type": "code",
   "execution_count": 279,
   "metadata": {
    "collapsed": false
   },
   "outputs": [],
   "source": [
    "%matplotlib inline\n",
    "import numpy as np\n",
    "import matplotlib.pyplot as plt\n",
    "import pandas as pd\n",
    "import colorsys\n"
   ]
  },
  {
   "cell_type": "code",
   "execution_count": 280,
   "metadata": {
    "collapsed": false,
    "scrolled": true
   },
   "outputs": [
    {
     "name": "stdout",
     "output_type": "stream",
     "text": [
      "[[ 28.  22.  19. ...,  37.  26.  22.]\n",
      " [  0.   0.   0. ...,   0.   0.   1.]\n",
      " [  1.   1.   0. ...,   1.   1.   0.]\n",
      " ..., \n",
      " [ 30.  30.  20. ...,  14.  10.   2.]\n",
      " [  1.   1.   1. ...,   1.   0.   0.]\n",
      " [  0.   0.   0. ...,   0.   0.   0.]]\n"
     ]
    }
   ],
   "source": [
    "data = pd.read_csv(\"lab1-db/lab1.csv\", sep=',', dtype={21: np.str, 57: np.str})\n",
    "variables = [\"Gender\", \"IsUnderEmployed\", \"MonthsProgramming\",\n",
    "             \"ExpectedEarning\", \"ResourceUdacity\", \"CodeEventNodeSchool\",\n",
    "             \"CityPopulation\", \"HoursLearning\", \"LanguageAtHome\", \"ResourceHackerRank\"]\n",
    "\n",
    "\n",
    "arr = np.array(data[\"Age\"].values, dtype = np.float64)\n",
    "\n",
    "columns = arr.shape[0]\n",
    "\n",
    "for i in variables:\n",
    "    arr = np.append(arr, data[i].values, axis=0)\n",
    "\n",
    "rows = arr.shape[0] // columns\n",
    "arr = arr.reshape(rows, columns)\n",
    "\n",
    "arr[0] = np.array(arr[0], dtype = np.float64)\n",
    "\n",
    "\n",
    "# Convert all the strings to floats.\n",
    "# Convert all the nan's to 0\n",
    "arr[arr == 'male'] = 0.0\n",
    "arr[arr == 'female'] = 1.0\n",
    "arr[arr == 'genderqueer'] = 2\n",
    "arr[arr == 'agender'] = 3\n",
    "arr[arr == 'trans'] = 3\n",
    "arr[9][arr[9] != 'English'] = 0.0\n",
    "arr[9][arr[9] == 'English'] = 1.0\n",
    "arr[arr == 'more than 1 million'] = 1e6\n",
    "arr[arr == 'between 100,000 and 1 million'] = 1e5\n",
    "arr[arr == 'less than 100,000'] = 1\n",
    "arr = np.array(arr, dtype = np.float64)\n",
    "arr[np.isnan(arr)] = 0\n",
    "\n",
    "print(arr)\n"
   ]
  },
  {
   "cell_type": "markdown",
   "metadata": {},
   "source": [
    "--------\n",
    "\n",
    "3. Con base en la matriz de datos capturada, realice los siguientes experimentos:\n",
    "\n",
    "    - Determine al singularidad de la matriz.\n",
    "\n",
    "    R: En este caso es fácil observar que la matriz es singular ya que la matriz no es cuadrada. En el caso de que fuera cuadrada, debería evaluarse el rango de la misma y verificar que fuera igual al número de filas (o columnas)."
   ]
  },
  {
   "cell_type": "code",
   "execution_count": 281,
   "metadata": {
    "collapsed": false
   },
   "outputs": [
    {
     "name": "stdout",
     "output_type": "stream",
     "text": [
      "Is singular?:  True\n"
     ]
    }
   ],
   "source": [
    "print ('Is singular?: ', arr.shape[0] != arr.shape[1])"
   ]
  },
  {
   "cell_type": "markdown",
   "metadata": {},
   "source": [
    " - Determine si la matriz es linealmente independiente. ¿Cual es el rango de la matriz?\n",
    " \n",
    "     R: La matriz es linealmente independiente dado que la cantidad de variables que se están alanizando es igual a su rango"
   ]
  },
  {
   "cell_type": "code",
   "execution_count": 282,
   "metadata": {
    "collapsed": false
   },
   "outputs": [
    {
     "name": "stdout",
     "output_type": "stream",
     "text": [
      "The rank of the matrix is: 11\n",
      "Number of variables: 11\n"
     ]
    }
   ],
   "source": [
    "print('The rank of the matrix is:', np.linalg.matrix_rank(arr))\n",
    "print('Number of variables:', arr.shape[0])"
   ]
  },
  {
   "cell_type": "markdown",
   "metadata": {},
   "source": [
    "- Calcule la inversa de la matriz. ¿Es posible calcularla? ¿Por qué?\n",
    "    R: No se puede calcular la inversa porque la matriz es singular.\n",
    "       \n",
    "- En Matlab, ¿cuál es la diferencia entre las funciones inv() y pinv()?\n",
    "   R:   \n",
    "     __inv__ calcula la inversa de una matriz siguiendo de manera estricta todas las propiedades que esto implica.\n",
    "     \n",
    "     __pinv__ calcula la pseudo inversa (o inversa generalizada), la cual es una matriz que cumple *algunas* de las propiedades de la inversa, pero no todas. Resulta útil (por ejemplo) cuando se trabaja con matrices no cuadradas.\n",
    "             \n",
    "- Calcule el determinante de la matriz:\n",
    "   R: En este caso no se puede debido a que la matriz no es cuadrada.\n",
    "   Se calcula con el comando np.linalg.det.\n",
    "   \n",
    "       print('Determinant of matrix:', np.linalg.det(arr))\n",
    "     \n",
    "- Estime la norma de Frobenius de la matriz.\n",
    "        "
   ]
  },
  {
   "cell_type": "code",
   "execution_count": 207,
   "metadata": {
    "collapsed": false
   },
   "outputs": [
    {
     "name": "stdout",
     "output_type": "stream",
     "text": [
      "Frobenius norm of matrix: 75034677.2444\n"
     ]
    }
   ],
   "source": [
    "print('Frobenius norm of matrix:', np.linalg.norm(arr))"
   ]
  },
  {
   "cell_type": "markdown",
   "metadata": {},
   "source": [
    "---------------------\n",
    "Calcule la media y la varianza de cada una de las variables de su matriz de datos y grafíquelas. \n",
    "Ver comandos mean, var y plot de MatLab. \n",
    "\n",
    "¿Qué puede inferir a partir de dichos valores con respeto al problema de interés de su base de datos?"
   ]
  },
  {
   "cell_type": "code",
   "execution_count": 283,
   "metadata": {
    "collapsed": false
   },
   "outputs": [
    {
     "name": "stdout",
     "output_type": "stream",
     "text": [
      "Mean of all elements 37115.3295716\n",
      "Mean by columns [  2.54266965e+01   2.04481434e-01   2.33418694e-01   2.34823944e+01\n",
      "   2.08989613e+04   2.11651729e-01   3.07298335e-02   3.87304940e+05\n",
      "   1.46581946e+01   4.74967990e-01   1.92061460e-03]\n",
      "Var of all elements 31390481580.8\n",
      "Var by columns [  1.66183039e+02   1.99544577e-01   1.78934407e-01   2.37032357e+03\n",
      "   1.03779963e+09   1.66855274e-01   2.97855109e-02   2.08968635e+11\n",
      "   2.04663387e+02   2.49373398e-01   1.91692584e-03]\n"
     ]
    }
   ],
   "source": [
    "print('Mean of all elements', np.mean(arr))\n",
    "print('Mean by columns', np.mean(arr, axis = 1))\n",
    "print('Var of all elements', np.var(arr))\n",
    "print('Var by columns', np.var(arr, axis = 1))"
   ]
  },
  {
   "cell_type": "code",
   "execution_count": 284,
   "metadata": {
    "collapsed": false
   },
   "outputs": [
    {
     "data": {
      "image/png": "[encoded data removed]",
      "text/plain": [
       "<matplotlib.figure.Figure at 0x7fcc7fb571d0>"
      ]
     },
     "metadata": {},
     "output_type": "display_data"
    },
    {
     "data": {
      "image/png": "[encoded data removed]",
      "text/plain": [
       "<matplotlib.figure.Figure at 0x7fcc7fb50358>"
      ]
     },
     "metadata": {},
     "output_type": "display_data"
    }
   ],
   "source": [
    "plt.plot(np.mean(arr, axis=1))\n",
    "plt.show()\n",
    "plt.plot(np.var(arr, axis=1))\n",
    "plt.show()"
   ]
  },
  {
   "cell_type": "markdown",
   "metadata": {},
   "source": [
    "Hasta el momento es posible ver que los datos no están normalizados, por ejemplo la variable 7 (\"CityPopulation\") es muchísimo más grande que las demás y esto dificulta su análisis. "
   ]
  },
  {
   "cell_type": "markdown",
   "metadata": {},
   "source": [
    "--------\n",
    "\n",
    "Genere la matriz cuadrada C∈RL×L, siendo L el numero de variables analizadas, con elementos Cij = cov (xi, xj), siendo xi, xj ∈RT un par de vectores cuyos elementos contienen los valores de las variables i y j para T muestras de la base de datos.\n",
    "    \n",
    "    \n",
    "Analice la matriz de covarianza C con respecto al problema de estudio (mínimo estudie la covarianza entre T = 10 variables).\n",
    "\n",
    "Ver comando cov en MatLab."
   ]
  },
  {
   "cell_type": "code",
   "execution_count": 285,
   "metadata": {
    "collapsed": false
   },
   "outputs": [],
   "source": [
    "covariance = np.cov(arr)\n",
    "# plt.pcolor(covariance)\n",
    "# plt.colorbar()\n",
    "# plt.show()"
   ]
  },
  {
   "cell_type": "markdown",
   "metadata": {},
   "source": [
    "Estime la inversa de la matriz C. ¿Es posible calcularla? ¿Por qué?.\n",
    "\n",
    "   R: La inversa de la matriz C siempre existe (conocida como matriz de precision) debido a las propiedades de las matrices de covarianza[1](https://en.wikipedia.org/wiki/Covariance_matrix#Properties) (principalmente al hecho de que son symetricas y positivas-semidefinidas[2](https://en.wikipedia.org/wiki/Positive-definite_matrix#Further_properties))\n",
    "        \n",
    "        ref: https://en.wikipedia.org/wiki/Covariance_matrix#Properties\n",
    "             https://en.wikipedia.org/wiki/Positive-definite_matrix#Further_properties"
   ]
  },
  {
   "cell_type": "code",
   "execution_count": 286,
   "metadata": {
    "collapsed": false
   },
   "outputs": [],
   "source": [
    "inv_cov = np.linalg.inv(covariance)"
   ]
  },
  {
   "cell_type": "markdown",
   "metadata": {},
   "source": [
    "-----------------------\n",
    "Dados los vectores de datos xi y xj para un par de variables i, j, grafique el histograma de cada una de dichas variables. Ver comando hist de Matlab. \n",
    "    \n",
    "¿Que relación tiene dicho gráfico con la probabilidad marginal de cada una de las variables?\n",
    "   \n",
    "   R: Dicho histograma tiene una relación directa con la probabilidad de las variables, por ejemplo al graficar la edad, se nota que es \"más probable\" que las personas que están aprendiendo a programartengan entre 20 y 30 años de edad.\n",
    "   \n",
    "   Este gráfico puede ser de gran utilidad si se desea conocer la distribución de probabilidad que siguen las variables, por ejemplo al graficar la edad y las horas de aprendizaje, se nota que tienen formas diferentes."
   ]
  },
  {
   "cell_type": "code",
   "execution_count": 287,
   "metadata": {
    "collapsed": false
   },
   "outputs": [
    {
     "data": {
      "image/png": "[encoded data removed]",
      "text/plain": [
       "<matplotlib.figure.Figure at 0x7fcc80b60240>"
      ]
     },
     "metadata": {},
     "output_type": "display_data"
    },
    {
     "data": {
      "image/png": "[encoded data removed]",
      "text/plain": [
       "<matplotlib.figure.Figure at 0x7fcc7f504eb8>"
      ]
     },
     "metadata": {},
     "output_type": "display_data"
    }
   ],
   "source": [
    "plt.xlabel(\"Age\")\n",
    "plt.title(\"Distribution of Age\")\n",
    "plt.hist(arr[0], bins=43)\n",
    "plt.show()\n",
    "\n",
    "plt.xlabel(\"HoursLearning\")\n",
    "plt.title(\"Distribution of HoursLearning\")\n",
    "plt.hist(arr[8], bins=20)\n",
    "plt.show()"
   ]
  },
  {
   "cell_type": "markdown",
   "metadata": {},
   "source": [
    "-----------------------\n",
    "\n",
    "Estime la media y la varianza para un par de variables xi y xj , calcule la funcion de densidad de probabilidad de cada variable utilizando un modelo Gaussiano univariado. Para ello, evalúe cada uno de los valores de xi y xj sobre una función gaussiana univariada con media  μ = E (xi) y varianza σ = var(xi). Ver la funcion normpdf.\n",
    "        \n",
    "        \n",
    "Grafique la función de densidad de probabilidad  y analice dicha grafica."
   ]
  },
  {
   "cell_type": "code",
   "execution_count": 288,
   "metadata": {
    "collapsed": false
   },
   "outputs": [
    {
     "name": "stdout",
     "output_type": "stream",
     "text": [
      "Params for age: mu:  29.1754205539  sigma:  81.3132370321\n"
     ]
    },
    {
     "data": {
      "image/png": "[encoded data removed]",
      "text/plain": [
       "<matplotlib.figure.Figure at 0x7fcc7e8c3a58>"
      ]
     },
     "metadata": {},
     "output_type": "display_data"
    }
   ],
   "source": [
    "x = np.trim_zeros(np.sort(arr[0]))\n",
    "mu = np.mean(x)\n",
    "sigma = np.var(x)\n",
    "\n",
    "print(\"Params for age: mu: \", mu ,\" sigma: \" , sigma)\n",
    "import matplotlib.mlab as mlab\n",
    "\n",
    "x_axis = np.arange(1, 200, 0.001)\n",
    "plt.plot(x_axis, mlab.normpdf(x_axis, mu, sigma))\n",
    "\n",
    "plt.show()"
   ]
  },
  {
   "cell_type": "code",
   "execution_count": 289,
   "metadata": {
    "collapsed": false
   },
   "outputs": [
    {
     "name": "stdout",
     "output_type": "stream",
     "text": [
      "Params for age with zeros: mu:  25.4266965429  sigma:  166.183038895\n"
     ]
    },
    {
     "data": {
      "image/png": "[encoded data removed]",
      "text/plain": [
       "<matplotlib.figure.Figure at 0x7fcc80c0d828>"
      ]
     },
     "metadata": {},
     "output_type": "display_data"
    }
   ],
   "source": [
    "x = arr[0]\n",
    "mu = np.mean(x)\n",
    "sigma = np.var(x)\n",
    "\n",
    "print(\"Params for age with zeros: mu: \", mu ,\" sigma: \" , sigma)\n",
    "\n",
    "x_axis = np.arange(1, 200, 0.001)\n",
    "plt.plot(x_axis, mlab.normpdf(x_axis, mu, sigma))\n",
    "\n",
    "plt.show()"
   ]
  },
  {
   "cell_type": "markdown",
   "metadata": {},
   "source": [
    "En esta sección se puede resaltar un aspecto muy interesante de los datos, dadas las dos gráficas anteriores se puede notar que la primera da una mejor estimación de los parámetros (tiene un valor de sigma más pequeño) dado que fueron removidos todos los datos iguales a cero. Esto se realizó porque se considera que dichos datos no son reales sino que fueron resultado de la toma de datos."
   ]
  },
  {
   "cell_type": "code",
   "execution_count": 290,
   "metadata": {
    "collapsed": false
   },
   "outputs": [
    {
     "name": "stdout",
     "output_type": "stream",
     "text": [
      "Params for HoursLearning: mu:  14.6581946223  sigma:  204.663386753\n"
     ]
    },
    {
     "data": {
      "image/png": "[encoded data removed]",
      "text/plain": [
       "<matplotlib.figure.Figure at 0x7fcc7f2189e8>"
      ]
     },
     "metadata": {},
     "output_type": "display_data"
    }
   ],
   "source": [
    "x = arr[8]\n",
    "mu = np.mean(x)\n",
    "sigma = np.var(x)\n",
    "\n",
    "print(\"Params for HoursLearning: mu: \", mu ,\" sigma: \" , sigma)\n",
    "\n",
    "x_axis = np.arange(1, 200, 0.001)\n",
    "plt.plot(x_axis, mlab.normpdf(x_axis, mu, sigma))\n",
    "\n",
    "plt.show()"
   ]
  },
  {
   "cell_type": "markdown",
   "metadata": {},
   "source": [
    "### Discusión adicional.\n",
    "\n",
    "Vale la pena resaltar la importancia de una etapa de filtrado de datos antes de realizar los análisis dado que los datos en crudo tienen muchísimas inconsistencias, por ejemplo valores faltantes. También es importante decidir en esa etapa como mapear los valores *no-numéricos* a valores numéricos."
   ]
  }
 ],
 "metadata": {
  "anaconda-cloud": {},
  "kernelspec": {
   "display_name": "Python 3",
   "language": "python",
   "name": "python3"
  },
  "language_info": {
   "codemirror_mode": {
    "name": "ipython",
    "version": 3
   },
   "file_extension": ".py",
   "mimetype": "text/x-python",
   "name": "python",
   "nbconvert_exporter": "python",
   "pygments_lexer": "ipython3",
   "version": "3.5.2+"
  }
 },
 "nbformat": 4,
 "nbformat_minor": 1
}
